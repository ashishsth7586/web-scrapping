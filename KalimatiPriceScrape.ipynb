{
 "cells": [
  {
   "cell_type": "code",
   "execution_count": 1,
   "metadata": {},
   "outputs": [],
   "source": [
    "from bs4 import BeautifulSoup\n",
    "from selenium import webdriver\n",
    "import time\n",
    "import datetime\n",
    "import urllib.request\n",
    "import pandas as pd\n",
    "from selenium.webdriver.support.select import Select\n",
    "import numpy as np"
   ]
  },
  {
   "cell_type": "code",
   "execution_count": 2,
   "metadata": {},
   "outputs": [],
   "source": [
    "# Price Type Selection\n",
    "pricetype = \"W\" # W = Wholesale, R = Retail\n",
    "\n",
    "# Date Generator\n",
    "start_date = \"12/01/2018\"\n",
    "end_date = \"12/01/2019\"\n",
    "\n",
    "start = datetime.datetime.strptime(start_date, \"%m/%d/%Y\")\n",
    "end = datetime.datetime.strptime(end_date, \"%m/%d/%Y\")\n",
    "\n",
    "date_generated = [start + datetime.timedelta(days=x) for x in range(0, (end-start).days)]\n",
    "\n",
    "date_list = []\n",
    "\n",
    "for date in date_generated:\n",
    "    date_list.append(date.strftime(\"%m/%d/%Y\"))"
   ]
  },
  {
   "cell_type": "code",
   "execution_count": 3,
   "metadata": {},
   "outputs": [],
   "source": [
    "urlpage = \"http://kalimatimarket.gov.np/daily-price-information\"\n",
    "\n",
    "# Query the website and run the html to the variable \"page\"\n",
    "page = urllib.request.urlopen(urlpage)\n",
    "\n",
    "# Parse the html using Beautiful Soup and Store in variable Soup\n",
    "soup = BeautifulSoup(page, 'html.parser')\n",
    "\n",
    "# Find the DatePicker Input\n",
    "date = soup.find(\"input\", id=\"datepicker\", attrs={'name': \"date\"})\n",
    "viewButton = soup.find(\"input\", attrs={'type': 'button', \"name\":\"view\"})"
   ]
  },
  {
   "cell_type": "code",
   "execution_count": 4,
   "metadata": {},
   "outputs": [],
   "source": [
    "# Run Chromium Browser\n",
    "driver = webdriver.Chrome(executable_path='/usr/local/bin/chromedriver')\n",
    "# Get webpage\n",
    "driver.get(urlpage)"
   ]
  },
  {
   "cell_type": "code",
   "execution_count": 5,
   "metadata": {},
   "outputs": [],
   "source": [
    "# Insert the Custom date to INPUT Tag\n",
    "date = \"11/04/2014\"\n",
    "# datepicker = driver.find_element_by_tag_name(\"input\")\n",
    "datepicker = driver.find_element_by_xpath(\"//input[contains(@id, 'datepicker')]\")\n",
    "driver.execute_script(\"arguments[0].value = '\"+date+\"';\", datepicker)"
   ]
  },
  {
   "cell_type": "code",
   "execution_count": 6,
   "metadata": {},
   "outputs": [],
   "source": [
    "# Select pricetype\n",
    "# price_type = driver.find_element_by_xpath(\"//select[contains(@id, 'pricetype')]\").click()\n",
    "select = Select(driver.find_element_by_id(\"pricetype\"))\n",
    "\n",
    "# Select by Index\n",
    "# select.select_by_index(1)\n",
    "\n",
    "# select by value\n",
    "select.select_by_value(pricetype)"
   ]
  },
  {
   "cell_type": "code",
   "execution_count": 7,
   "metadata": {},
   "outputs": [],
   "source": [
    "# Click the View option after inserting Date\n",
    "view_button = driver.find_element_by_xpath(\"//input[contains(@name, 'view')]\")\n",
    "driver.execute_script(\"arguments[0].click();\",view_button)"
   ]
  },
  {
   "cell_type": "code",
   "execution_count": 8,
   "metadata": {},
   "outputs": [],
   "source": [
    "# import csv"
   ]
  },
  {
   "cell_type": "code",
   "execution_count": 9,
   "metadata": {},
   "outputs": [],
   "source": [
    "# csv_file = open(\"./source/kalimatiprice1.csv\", 'w')\n",
    "# csv_writer = csv.writer(csv_file)\n",
    "# csv_writer.writerow([f\"{datetime.datetime.now():%Y-%m-%d}\"])\n",
    "# csv_writer.writerow(['Product Name', 'Unit', 'Minimum', 'Maximum', 'Average'])"
   ]
  },
  {
   "cell_type": "code",
   "execution_count": 10,
   "metadata": {},
   "outputs": [],
   "source": [
    "table_rows = driver.find_elements_by_xpath(\"//div[contains(@id, 'pricelist')]/center/table/tbody/tr/td/table/tbody/tr\")\n",
    "row_array = np.array(table_rows)\n",
    "data =[]\n",
    "for each_row in row_array:\n",
    "    data.append(each_row.text)\n",
    "# row_array[3].text.split(' ')\n",
    "data_array = np.array(data[3:])\n",
    "type(data_array[0].split(' '))\n",
    "data_splited = []\n",
    "for i in range(len(data_array)):\n",
    "    data_splited.append(data_array[i].split(' '))"
   ]
  },
  {
   "cell_type": "code",
   "execution_count": 11,
   "metadata": {},
   "outputs": [],
   "source": [
    "def correct_data(table_row):\n",
    "    table_with_name = ''\n",
    "    table_with_price = []\n",
    "    first_element_array = []\n",
    "    if len(data_splited[1]) > 5:\n",
    "    #     table_with_price = table_row[:-4] + table_row[-4:]\n",
    "        for i in range(len(table_row) - len(table_row[-4:])):\n",
    "            table_with_name += table_row[i] + \" \"\n",
    "        first_element_array.insert(0, table_with_name)\n",
    "        table_with_price = first_element_array + table_row[-4:]\n",
    "    else:\n",
    "        table_with_price = table_row\n",
    "    return table_with_price"
   ]
  },
  {
   "cell_type": "code",
   "execution_count": 12,
   "metadata": {},
   "outputs": [],
   "source": [
    "final_data = []\n",
    "for i in range(len(data_splited)):\n",
    "    final_data.append(correct_data(data_splited[i]))\n"
   ]
  },
  {
   "cell_type": "code",
   "execution_count": 14,
   "metadata": {},
   "outputs": [
    {
     "data": {
      "text/html": [
       "<div>\n",
       "<style scoped>\n",
       "    .dataframe tbody tr th:only-of-type {\n",
       "        vertical-align: middle;\n",
       "    }\n",
       "\n",
       "    .dataframe tbody tr th {\n",
       "        vertical-align: top;\n",
       "    }\n",
       "\n",
       "    .dataframe thead th {\n",
       "        text-align: right;\n",
       "    }\n",
       "</style>\n",
       "<table border=\"1\" class=\"dataframe\">\n",
       "  <thead>\n",
       "    <tr style=\"text-align: right;\">\n",
       "      <th></th>\n",
       "      <th>Product</th>\n",
       "      <th>Unit</th>\n",
       "      <th>Minimum</th>\n",
       "      <th>Maximum</th>\n",
       "      <th>Average</th>\n",
       "    </tr>\n",
       "  </thead>\n",
       "  <tbody>\n",
       "    <tr>\n",
       "      <th>64</th>\n",
       "      <td>लसुन सुकेको चाइनिज</td>\n",
       "      <td>के.जी.</td>\n",
       "      <td>११५</td>\n",
       "      <td>१२०</td>\n",
       "      <td>११७</td>\n",
       "    </tr>\n",
       "    <tr>\n",
       "      <th>65</th>\n",
       "      <td>लसुन सुकेको नेपाली</td>\n",
       "      <td>के.जी.</td>\n",
       "      <td>८०</td>\n",
       "      <td>९०</td>\n",
       "      <td>८७</td>\n",
       "    </tr>\n",
       "    <tr>\n",
       "      <th>66</th>\n",
       "      <td>छ्यापी सुकेको</td>\n",
       "      <td>के.जी.</td>\n",
       "      <td>११०</td>\n",
       "      <td>१२०</td>\n",
       "      <td>११७</td>\n",
       "    </tr>\n",
       "    <tr>\n",
       "      <th>67</th>\n",
       "      <td>छ्यापी हरियो</td>\n",
       "      <td>के.जी.</td>\n",
       "      <td>९०</td>\n",
       "      <td>१००</td>\n",
       "      <td>९५</td>\n",
       "    </tr>\n",
       "    <tr>\n",
       "      <th>68</th>\n",
       "      <td>माछा ताजा</td>\n",
       "      <td>के.जी.</td>\n",
       "      <td>२२०</td>\n",
       "      <td>२३०</td>\n",
       "      <td>२२७</td>\n",
       "    </tr>\n",
       "  </tbody>\n",
       "</table>\n",
       "</div>"
      ],
      "text/plain": [
       "                Product    Unit Minimum Maximum Average\n",
       "64  लसुन सुकेको चाइनिज   के.जी.     ११५     १२०     ११७\n",
       "65  लसुन सुकेको नेपाली   के.जी.      ८०      ९०      ८७\n",
       "66       छ्यापी सुकेको   के.जी.     ११०     १२०     ११७\n",
       "67        छ्यापी हरियो   के.जी.      ९०     १००      ९५\n",
       "68           माछा ताजा   के.जी.     २२०     २३०     २२७"
      ]
     },
     "execution_count": 14,
     "metadata": {},
     "output_type": "execute_result"
    }
   ],
   "source": [
    "df = pd.DataFrame(final_data, columns = [\"Product\", \"Unit\", \"Minimum\", \"Maximum\", \"Average\"])\n",
    "df.tail()"
   ]
  },
  {
   "cell_type": "code",
   "execution_count": 15,
   "metadata": {},
   "outputs": [],
   "source": [
    "export_csv = df.to_csv ('./source/export_dataframe.csv', index = None, header=True) #Don't forget to add '.csv' at the end of the path"
   ]
  },
  {
   "cell_type": "code",
   "execution_count": null,
   "metadata": {},
   "outputs": [],
   "source": []
  },
  {
   "cell_type": "code",
   "execution_count": null,
   "metadata": {},
   "outputs": [],
   "source": []
  },
  {
   "cell_type": "code",
   "execution_count": null,
   "metadata": {},
   "outputs": [],
   "source": [
    "for date in date_list:\n",
    "    print(\"./source/kalimati/retail/\"+date.replace('/', '-')+\".csv\")"
   ]
  },
  {
   "cell_type": "code",
   "execution_count": null,
   "metadata": {},
   "outputs": [],
   "source": []
  }
 ],
 "metadata": {
  "kernelspec": {
   "display_name": "Python 3",
   "language": "python",
   "name": "python3"
  },
  "language_info": {
   "codemirror_mode": {
    "name": "ipython",
    "version": 3
   },
   "file_extension": ".py",
   "mimetype": "text/x-python",
   "name": "python",
   "nbconvert_exporter": "python",
   "pygments_lexer": "ipython3",
   "version": "3.6.9"
  }
 },
 "nbformat": 4,
 "nbformat_minor": 2
}
